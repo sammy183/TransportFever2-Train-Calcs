{
 "cells": [
  {
   "cell_type": "code",
   "execution_count": 20,
   "id": "ce1113ae-b5de-4d3e-8ff9-e1aa9b7e38bf",
   "metadata": {},
   "outputs": [],
   "source": [
    "#Name, Weight (t), Power (kW), Tractive Effort (kN), T1 (s), D1 (m), Vmax (kmh)\n",
    "dataset = [['CLe 2/4 Roter Pfeil', 33, 315, 45, 69, 1546, 125],\n",
    "           ['Railbus', 13, 96, 15, 47, 744, 90],\n",
    "           ['RABDe 12/12 Mirage', 180, 2445, 240, 49, 1082, 125],\n",
    "           ['Re 450 Commuter', 221, 3000, 280, 54, 1221, 130]\n",
    "          ]\n",
    "#I want to be able to calculate t1 from W, P, TE"
   ]
  },
  {
   "cell_type": "code",
   "execution_count": 44,
   "id": "15fc622a-47fe-4e99-be5f-91ddd6de8131",
   "metadata": {},
   "outputs": [
    {
     "name": "stdout",
     "output_type": "stream",
     "text": [
      "34.84463762189746\n",
      "34.72222222222222\n"
     ]
    }
   ],
   "source": [
    "#from what I was told, a = min(P/v, TE) - 0.002mg\n",
    "#IT WORKS WHEN I HALF TE????\n",
    "#this is just for rotor pfeil rn, and I'm not sure how to backtrack and get t1 (maybe scipy optimize root again?)_\n",
    "\n",
    "import numpy as np\n",
    "import matplotlib.pyplot as plt\n",
    "from scipy.integrate import trapezoid\n",
    "\n",
    "\n",
    "P = dataset[0][2]*1000\n",
    "m = dataset[0][1]*1000\n",
    "TE = dataset[0][3]*1000*(1/2)\n",
    "g = 9.81\n",
    "t1 = dataset[0][4]\n",
    "\n",
    "speeds = np.linspace(0.0001, dataset[0][6]/3.6, 1000)\n",
    "a = np.zeros(1000)\n",
    "i = 0\n",
    "for v in speeds:\n",
    "    F = min(P/v, TE) - 0.002*m*g\n",
    "    a[i] = F/m\n",
    "    i += 1\n",
    "t = np.linspace(0, t1, 1000)\n",
    "\n",
    "v = trapezoid(a, t)\n",
    "print(v)\n",
    "print(dataset[0][6]/3.6)\n",
    "#find a t1 such that the integral of a*t = speeds[len(speeds)-1]"
   ]
  },
  {
   "cell_type": "code",
   "execution_count": 45,
   "id": "e1c7c924-bbcc-46c3-8397-285302df290c",
   "metadata": {},
   "outputs": [
    {
     "name": "stdout",
     "output_type": "stream",
     "text": [
      "22.254675067146387\n",
      "25.0\n"
     ]
    }
   ],
   "source": [
    "P = dataset[1][2]*1000\n",
    "m = dataset[1][1]*1000\n",
    "TE = dataset[1][3]*1000*(1/2)\n",
    "g = 9.81\n",
    "t1 = dataset[1][4]\n",
    "\n",
    "speeds = np.linspace(0.0001, dataset[1][6]/3.6, 1000)\n",
    "a = np.zeros(1000)\n",
    "i = 0\n",
    "for v in speeds:\n",
    "    F = min(P/v, TE) - 0.002*m*g\n",
    "    a[i] = F/m\n",
    "    i += 1\n",
    "t = np.linspace(0, t1, 1000)\n",
    "\n",
    "v = trapezoid(a, t)\n",
    "print(v)\n",
    "print(dataset[1][6]/3.6)\n"
   ]
  },
  {
   "cell_type": "code",
   "execution_count": 49,
   "id": "3aad175c-d9dd-478e-be50-2249da7b7376",
   "metadata": {},
   "outputs": [
    {
     "name": "stdout",
     "output_type": "stream",
     "text": [
      "47.99264266896512\n",
      "34.72222222222222\n",
      "31.8776202384246\n",
      "25.0\n",
      "41.71249681762025\n",
      "34.72222222222222\n",
      "43.903939530226225\n",
      "36.11111111111111\n"
     ]
    }
   ],
   "source": [
    "for item in range(0, 4):\n",
    "    P = dataset[item][2]*1000\n",
    "    m = dataset[item][1]*1000\n",
    "    TE = dataset[item][3]*1000\n",
    "    g = 9.81\n",
    "    t1 = dataset[item][4]\n",
    "    \n",
    "    speeds = np.linspace(0.0001, dataset[item][6]/3.6, 1000)\n",
    "    a = np.zeros(1000)\n",
    "    i = 0\n",
    "    for v in speeds:\n",
    "        F = min(P/v, TE) - 0.002*m*g\n",
    "        a[i] = F/m\n",
    "        i += 1\n",
    "    t = np.linspace(0, t1, 1000)\n",
    "    \n",
    "    v = trapezoid(a, t)\n",
    "    print(v)\n",
    "    print(dataset[item][6]/3.6)"
   ]
  },
  {
   "cell_type": "code",
   "execution_count": null,
   "id": "e100b49c-921a-4d09-a8dd-8ad8a0f31316",
   "metadata": {},
   "outputs": [],
   "source": []
  }
 ],
 "metadata": {
  "kernelspec": {
   "display_name": "Python 3 (ipykernel)",
   "language": "python",
   "name": "python3"
  },
  "language_info": {
   "codemirror_mode": {
    "name": "ipython",
    "version": 3
   },
   "file_extension": ".py",
   "mimetype": "text/x-python",
   "name": "python",
   "nbconvert_exporter": "python",
   "pygments_lexer": "ipython3",
   "version": "3.10.14"
  }
 },
 "nbformat": 4,
 "nbformat_minor": 5
}
